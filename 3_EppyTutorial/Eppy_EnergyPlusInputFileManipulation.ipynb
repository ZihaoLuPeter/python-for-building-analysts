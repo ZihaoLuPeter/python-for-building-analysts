{
 "cells": [
  {
   "cell_type": "markdown",
   "metadata": {},
   "source": [
    "# Eppy Tutorial"
   ]
  },
  {
   "cell_type": "markdown",
   "metadata": {},
   "source": [
    "Authors: Santosh Philip, Leora Tanjuatco\n",
    "\n",
    "Modified by: Clayton Miller"
   ]
  },
  {
   "cell_type": "markdown",
   "metadata": {},
   "source": [
    "### Eppy is a scripting language for E+ idf files, and E+ output files. Eppy is written in the programming language Python. \n",
    "\n",
    "As a result it takes full advantage of the rich data structure and idioms that are avaliable in python. You can programmatically navigate, search, and modify E+ idf files using eppy. The power of using a scripting language allows you to do the following:\n",
    "\n",
    "- Make a large number of changes in an idf file with a few lines of eppy code.\n",
    "- Use conditions and filters when making changes to an idf file\n",
    "- Make changes to multiple idf files.\n",
    "- Read data from the output files of a E+ simulation run.\n",
    "- Based to the results of a E+ simulation run, generate the input file for the next simulation run.\n",
    "\n",
    "### So what does this matter? Here are some of the things you can do with eppy:\n",
    "\n",
    "- Change construction for all north facing walls.\n",
    "- Change the glass type for all windows larger than 2 square meters.\n",
    "- Change the number of people in all the interior zones.\n",
    "- Change the lighting power in all south facing zones. \n",
    "- Change the efficiency and fan power of all rooftop units.\n",
    "- Find the energy use of all the models in a folder (or of models that were run after a certain date) \n",
    "- If a model is using more energy than expected, keep increasing the R-value of the roof until you get to the expected energy use."
   ]
  },
  {
   "cell_type": "markdown",
   "metadata": {},
   "source": [
    "## Quick Start"
   ]
  },
  {
   "cell_type": "markdown",
   "metadata": {},
   "source": [
    "Here is a short IDF file that I’ll be using as an example to start us off ::"
   ]
  },
  {
   "cell_type": "raw",
   "metadata": {},
   "source": [
    "    VERSION,\n",
    "        7.2;                     !- Version Identifier\n",
    "    \n",
    "    SIMULATIONCONTROL,\n",
    "        Yes,                     !- Do Zone Sizing Calculation\n",
    "        Yes,                     !- Do System Sizing Calculation\n",
    "        Yes,                     !- Do Plant Sizing Calculation\n",
    "        No,                      !- Run Simulation for Sizing Periods\n",
    "        Yes;                     !- Run Simulation for Weather File Run Periods\n",
    "    \n",
    "    BUILDING,\n",
    "        White House,             !- Name\n",
    "        30.,                     !- North Axis {deg}\n",
    "        City,                    !- Terrain\n",
    "        0.04,                    !- Loads Convergence Tolerance Value\n",
    "        0.4,                     !- Temperature Convergence Tolerance Value {deltaC}\n",
    "        FullExterior,            !- Solar Distribution\n",
    "        25,                      !- Maximum Number of Warmup Days\n",
    "        6;                       !- Minimum Number of Warmup Days\n",
    "    \n",
    "    SITE:LOCATION,\n",
    "        CHICAGO_IL_USA TMY2-94846,  !- Name\n",
    "        41.78,                   !- Latitude {deg}\n",
    "        -87.75,                  !- Longitude {deg}\n",
    "        -6.00,                   !- Time Zone {hr}\n",
    "        190.00;                  !- Elevation {m}\n"
   ]
  },
  {
   "cell_type": "markdown",
   "metadata": {},
   "source": [
    "First, we need to install the eppy library should be installed. Follow this link to learn how to use `pip` to install new Python Libraries\n",
    "\n",
    "To use eppy to look at this model, we first load the eppy library:"
   ]
  },
  {
   "cell_type": "code",
   "execution_count": null,
   "metadata": {},
   "outputs": [],
   "source": [
    "from eppy import modeleditor \n",
    "from eppy.modeleditor import IDF"
   ]
  },
  {
   "cell_type": "code",
   "execution_count": null,
   "metadata": {},
   "outputs": [],
   "source": [
    "IDF.setiddname(\"Energy+V7_2_0.idd\")\n",
    "idf1 = IDF(\"smallidf.idf\")"
   ]
  },
  {
   "cell_type": "markdown",
   "metadata": {},
   "source": [
    "idf1 now holds all the data to your in you idf file.  \n",
    "\n",
    "Now that the behind-the-scenes work is done, we can print this file. "
   ]
  },
  {
   "cell_type": "code",
   "execution_count": null,
   "metadata": {},
   "outputs": [],
   "source": [
    "idf1.printidf()"
   ]
  },
  {
   "cell_type": "markdown",
   "metadata": {},
   "source": [
    "Looks like the same file as before, except that all the comments are slightly different."
   ]
  },
  {
   "cell_type": "markdown",
   "metadata": {},
   "source": [
    "As you can see, this file has four objects:\n",
    "\n",
    "- VERSION\n",
    "- SIMULATIONCONTROL\n",
    "- BUILDING\n",
    "- SITE:LOCATION"
   ]
  },
  {
   "cell_type": "markdown",
   "metadata": {},
   "source": [
    "So, let us look take a closer look at the BUILDING object.\n",
    "We can do this using this command::"
   ]
  },
  {
   "cell_type": "code",
   "execution_count": null,
   "metadata": {},
   "outputs": [],
   "source": [
    "idf1.idfobjects['BUILDING']  # put the name of the object you'd like to look at in brackets"
   ]
  },
  {
   "cell_type": "markdown",
   "metadata": {},
   "source": [
    "We can also zoom in on the object and look just at its individual parts.\n",
    "\n",
    "For example, let us look at the name of the building.\n",
    "\n",
    "To do this, we have to do some more behind-the-scenes work, which we'll explain later."
   ]
  },
  {
   "cell_type": "code",
   "execution_count": null,
   "metadata": {},
   "outputs": [],
   "source": [
    "building = idf1.idfobjects['BUILDING'][0]"
   ]
  },
  {
   "cell_type": "markdown",
   "metadata": {},
   "source": [
    "Now we can do this:"
   ]
  },
  {
   "cell_type": "code",
   "execution_count": null,
   "metadata": {},
   "outputs": [],
   "source": [
    "building.Name"
   ]
  },
  {
   "cell_type": "markdown",
   "metadata": {},
   "source": [
    "Now that we've isolated the building name, we can change it."
   ]
  },
  {
   "cell_type": "code",
   "execution_count": null,
   "metadata": {},
   "outputs": [],
   "source": [
    "building.Name = \"Chrysler Building\""
   ]
  },
  {
   "cell_type": "code",
   "execution_count": null,
   "metadata": {},
   "outputs": [],
   "source": [
    "building.Name"
   ]
  },
  {
   "cell_type": "markdown",
   "metadata": {},
   "source": [
    "Did this actually change the name in the model ? Let us print the entire model and see."
   ]
  },
  {
   "cell_type": "code",
   "execution_count": null,
   "metadata": {},
   "outputs": [],
   "source": [
    "idf1.printidf()"
   ]
  },
  {
   "cell_type": "markdown",
   "metadata": {},
   "source": [
    "Yes! It did. So now you have a taste of what eppy can do. Let's get started!"
   ]
  },
  {
   "cell_type": "markdown",
   "metadata": {},
   "source": [
    "## Modifying IDF Fields"
   ]
  },
  {
   "cell_type": "markdown",
   "metadata": {},
   "source": [
    "That was just a quick example -- we were showing off. Let's look a little closer."
   ]
  },
  {
   "cell_type": "markdown",
   "metadata": {},
   "source": [
    "Plugging the object name (building), the field name (Name) and our new field name (\"Empire State Building\") into this command gave us this:"
   ]
  },
  {
   "cell_type": "code",
   "execution_count": null,
   "metadata": {},
   "outputs": [],
   "source": [
    "building.Name = \"Empire State Building\""
   ]
  },
  {
   "cell_type": "markdown",
   "metadata": {},
   "source": [
    "In the IDF Editor, the building object is selected.\n",
    "\n",
    "We can see all the fields of the object \"BUILDING\".\n",
    "\n",
    "They are:\n",
    "\n",
    "- Name\n",
    "- North Axis\n",
    "- Terrain\n",
    "- Loads Convergence Tolerance Value\n",
    "- Temperature Convergence Tolerance Value\n",
    "- Solar Distribution\n",
    "- Maximum Number of Warmup Days\n",
    "- Minimum Number of Warmup Days\n",
    "\n",
    "Let us try to access the other fields."
   ]
  },
  {
   "cell_type": "code",
   "execution_count": null,
   "metadata": {},
   "outputs": [],
   "source": [
    "print building.Terrain"
   ]
  },
  {
   "cell_type": "markdown",
   "metadata": {},
   "source": [
    "How about the field \"North Axis\" ?\n",
    "\n",
    "It is not a single word, but two words.\n",
    "\n",
    "In a programming language, a variable has to be a single word without any spaces.\n",
    "\n",
    "To solve this problem, put an underscore where there is a space.\n",
    "\n",
    "So \"North Axis\" becomes \"North_Axis\"."
   ]
  },
  {
   "cell_type": "code",
   "execution_count": null,
   "metadata": {},
   "outputs": [],
   "source": [
    "building.North_Axis"
   ]
  },
  {
   "cell_type": "markdown",
   "metadata": {},
   "source": [
    "Now we can do:"
   ]
  },
  {
   "cell_type": "code",
   "execution_count": null,
   "metadata": {},
   "outputs": [],
   "source": [
    "print building.Name\n",
    "print building.North_Axis\n",
    "print building.Terrain\n",
    "print building.Loads_Convergence_Tolerance_Value\n",
    "print building.Temperature_Convergence_Tolerance_Value\n",
    "print building.Solar_Distribution\n",
    "print building.Maximum_Number_of_Warmup_Days\n",
    "print building.Minimum_Number_of_Warmup_Days\n"
   ]
  },
  {
   "cell_type": "markdown",
   "metadata": {},
   "source": [
    "Where else can we find the field names?\n",
    "\n",
    "The IDF Editor saves the idf file with the field name commented next to field.\n",
    "\n",
    "Eppy also does this.\n",
    "\n",
    "Let us take a look at the \"BUILDING\" object in the text file that the IDF Editor saves ::"
   ]
  },
  {
   "cell_type": "raw",
   "metadata": {},
   "source": [
    "    BUILDING,\n",
    "        White House,             !- Name\n",
    "        30.,                     !- North Axis {deg}\n",
    "        City,                    !- Terrain\n",
    "        0.04,                    !- Loads Convergence Tolerance Value\n",
    "        0.4,                     !- Temperature Convergence Tolerance Value {deltaC}\n",
    "        FullExterior,            !- Solar Distribution\n",
    "        25,                      !- Maximum Number of Warmup Days\n",
    "        6;                       !- Minimum Number of Warmup Days\n"
   ]
  },
  {
   "cell_type": "markdown",
   "metadata": {},
   "source": [
    "This a good place to find the field names too.\n",
    "\n",
    "It is easy to copy and paste from here. You can't do that from the IDF Editor."
   ]
  },
  {
   "cell_type": "markdown",
   "metadata": {},
   "source": [
    "We know that in an E+ model, there will be only ONE \"BUILDING\" object. This will be the first and only item in the list \"buildings\".\n",
    "\n",
    "But E+ models are made up of objects such as \"BUILDING\", \"SITE:LOCATION\", \"ZONE\", \"PEOPLE\", \"LIGHTS\".   There can be a number of \"ZONE\" objects, a number of \"PEOPLE\" objects and a number of \"LIGHTS\" objects.\n",
    "\n",
    "So how do you know if you're looking at the first \"ZONE\" object or the second one? Or the tenth one?  To answer this, we need to learn about how lists work in python.\n"
   ]
  },
  {
   "cell_type": "markdown",
   "metadata": {},
   "source": [
    "## Saving an idf file"
   ]
  },
  {
   "cell_type": "markdown",
   "metadata": {},
   "source": [
    "This is easy:"
   ]
  },
  {
   "cell_type": "code",
   "execution_count": null,
   "metadata": {},
   "outputs": [],
   "source": [
    "idf1.save()"
   ]
  },
  {
   "cell_type": "markdown",
   "metadata": {},
   "source": [
    "If you'd like to do a \"Save as...\" use this:"
   ]
  },
  {
   "cell_type": "code",
   "execution_count": null,
   "metadata": {},
   "outputs": [],
   "source": [
    "idf1.saveas('something.idf')"
   ]
  },
  {
   "cell_type": "markdown",
   "metadata": {},
   "source": [
    "## Working with E+ objects"
   ]
  },
  {
   "cell_type": "markdown",
   "metadata": {},
   "source": [
    "Let us open a small idf file that has only \"CONSTRUCTION\" and \"MATERIAL\" objects in it. You can go into \"../idffiles/V_7_2/constructions.idf\" and take a look at the file. We are not printing it here because it is too big.  \n",
    "\n",
    "So let us open it using the idfreader -"
   ]
  },
  {
   "cell_type": "code",
   "execution_count": null,
   "metadata": {},
   "outputs": [],
   "source": [
    "idf1 = IDF(\"constructions.idf\")"
   ]
  },
  {
   "cell_type": "markdown",
   "metadata": {},
   "source": [
    "Let us print all the \"MATERIAL\" objects in this model."
   ]
  },
  {
   "cell_type": "code",
   "execution_count": null,
   "metadata": {},
   "outputs": [],
   "source": [
    "materials = idf1.idfobjects[\"MATERIAL\"]\n",
    "print materials"
   ]
  },
  {
   "cell_type": "markdown",
   "metadata": {},
   "source": [
    "As you can see, there are many material objects in this idf file.\n",
    "\n",
    "The variable \"materials\" now contains a list of \"MATERIAL\" objects.\n",
    "\n",
    "You already know a little about lists, so let us take a look at the items in this list.  "
   ]
  },
  {
   "cell_type": "code",
   "execution_count": null,
   "metadata": {},
   "outputs": [],
   "source": [
    "firstmaterial = materials[0]\n",
    "secondmaterial = materials[1]\n"
   ]
  },
  {
   "cell_type": "code",
   "execution_count": null,
   "metadata": {},
   "outputs": [],
   "source": [
    "firstmaterial"
   ]
  },
  {
   "cell_type": "markdown",
   "metadata": {},
   "source": [
    "Let us print secondmaterial"
   ]
  },
  {
   "cell_type": "code",
   "execution_count": null,
   "metadata": {},
   "outputs": [],
   "source": [
    "secondmaterial"
   ]
  },
  {
   "cell_type": "markdown",
   "metadata": {},
   "source": [
    "This is awesome!! Why?\n",
    "\n",
    "To understand what you can do with your objects organized as lists, you'll have to learn a little more about lists."
   ]
  },
  {
   "cell_type": "markdown",
   "metadata": {},
   "source": [
    "## Continuing to work with E+ objects"
   ]
  },
  {
   "cell_type": "markdown",
   "metadata": {},
   "source": [
    "Let us get those \"MATERIAL\" objects again"
   ]
  },
  {
   "cell_type": "code",
   "execution_count": null,
   "metadata": {},
   "outputs": [],
   "source": [
    "materials = idf1.idfobjects[\"MATERIAL\"]"
   ]
  },
  {
   "cell_type": "markdown",
   "metadata": {},
   "source": [
    "With our newfound knowledge of lists, we can do a lot of things.\n",
    "\n",
    "Let us get the last material:"
   ]
  },
  {
   "cell_type": "code",
   "execution_count": null,
   "metadata": {},
   "outputs": [],
   "source": [
    "materials[-1]"
   ]
  },
  {
   "cell_type": "markdown",
   "metadata": {},
   "source": [
    "How about the last two?"
   ]
  },
  {
   "cell_type": "code",
   "execution_count": null,
   "metadata": {},
   "outputs": [],
   "source": [
    "materials[-2:]"
   ]
  },
  {
   "cell_type": "markdown",
   "metadata": {},
   "source": [
    "Pretty good."
   ]
  },
  {
   "cell_type": "markdown",
   "metadata": {},
   "source": [
    "#### Counting all the materials ( or counting all objects )"
   ]
  },
  {
   "cell_type": "markdown",
   "metadata": {},
   "source": [
    "How many materials are in this model ?"
   ]
  },
  {
   "cell_type": "code",
   "execution_count": null,
   "metadata": {},
   "outputs": [],
   "source": [
    "len(materials)"
   ]
  },
  {
   "cell_type": "markdown",
   "metadata": {},
   "source": [
    "#### Removing a material"
   ]
  },
  {
   "cell_type": "markdown",
   "metadata": {},
   "source": [
    "Let us remove the last material in the list"
   ]
  },
  {
   "cell_type": "code",
   "execution_count": null,
   "metadata": {},
   "outputs": [],
   "source": [
    "was_last_material = materials.pop(-1)"
   ]
  },
  {
   "cell_type": "code",
   "execution_count": null,
   "metadata": {},
   "outputs": [],
   "source": [
    "len(materials)"
   ]
  },
  {
   "cell_type": "markdown",
   "metadata": {},
   "source": [
    "Success! We have only 9 materials now."
   ]
  },
  {
   "cell_type": "markdown",
   "metadata": {},
   "source": [
    "The last material used to be:\n",
    "\n",
    "'G05 25mm wood'"
   ]
  },
  {
   "cell_type": "code",
   "execution_count": null,
   "metadata": {},
   "outputs": [],
   "source": [
    "materials[-1]"
   ]
  },
  {
   "cell_type": "markdown",
   "metadata": {},
   "source": [
    "Now the last material in the list is:\n",
    "\n",
    "'M15 200mm heavyweight concrete'"
   ]
  },
  {
   "cell_type": "markdown",
   "metadata": {},
   "source": [
    "#### Adding a material to the list"
   ]
  },
  {
   "cell_type": "markdown",
   "metadata": {},
   "source": [
    "We still have the old last material"
   ]
  },
  {
   "cell_type": "code",
   "execution_count": null,
   "metadata": {},
   "outputs": [],
   "source": [
    "was_last_material"
   ]
  },
  {
   "cell_type": "markdown",
   "metadata": {},
   "source": [
    "Let us add it back to the list"
   ]
  },
  {
   "cell_type": "code",
   "execution_count": null,
   "metadata": {},
   "outputs": [],
   "source": [
    "materials.append(was_last_material)"
   ]
  },
  {
   "cell_type": "code",
   "execution_count": null,
   "metadata": {},
   "outputs": [],
   "source": [
    "len(materials)"
   ]
  },
  {
   "cell_type": "markdown",
   "metadata": {},
   "source": [
    "Once again we have 10 materials and the last material is:"
   ]
  },
  {
   "cell_type": "code",
   "execution_count": null,
   "metadata": {},
   "outputs": [],
   "source": [
    "materials[-1]"
   ]
  },
  {
   "cell_type": "markdown",
   "metadata": {},
   "source": [
    "#### Add a new material to the model"
   ]
  },
  {
   "cell_type": "markdown",
   "metadata": {},
   "source": [
    "So far we have been working only with materials that were already in the list.\n",
    "\n",
    "What if we want to make new material?\n",
    "\n",
    "Obviously we would use the function 'newidfobject'."
   ]
  },
  {
   "cell_type": "code",
   "execution_count": null,
   "metadata": {},
   "outputs": [],
   "source": [
    "idf1.newidfobject(\"MATERIAL\")"
   ]
  },
  {
   "cell_type": "code",
   "execution_count": null,
   "metadata": {},
   "outputs": [],
   "source": [
    "len(materials)"
   ]
  },
  {
   "cell_type": "markdown",
   "metadata": {},
   "source": [
    "We have 11 items in the materials list.\n",
    "\n",
    "Let us take a look at the last material in the list, where this fancy new material was added"
   ]
  },
  {
   "cell_type": "code",
   "execution_count": null,
   "metadata": {},
   "outputs": [],
   "source": [
    "materials[-1]"
   ]
  },
  {
   "cell_type": "markdown",
   "metadata": {},
   "source": [
    "Looks a little different from the other materials. It does have the name we gave it. \n",
    "\n",
    "Why do some fields have values and others are blank ?  \n",
    "\n",
    "\"addobject\" puts in all the default values, and leaves the others blank. It is up to us to put values in the the new fields. \n",
    "\n",
    "Let's do it now.  "
   ]
  },
  {
   "cell_type": "code",
   "execution_count": null,
   "metadata": {},
   "outputs": [],
   "source": [
    "materials[-1].Name = 'Peanut Butter'\n",
    "materials[-1].Roughness = 'MediumSmooth'\n",
    "materials[-1].Thickness = 0.03\n",
    "materials[-1].Conductivity = 0.16\n",
    "materials[-1].Density = 600\n",
    "materials[-1].Specific_Heat = 1500\n"
   ]
  },
  {
   "cell_type": "code",
   "execution_count": null,
   "metadata": {},
   "outputs": [],
   "source": [
    "materials[-1]\n"
   ]
  },
  {
   "cell_type": "markdown",
   "metadata": {},
   "source": [
    "#### Copy an existing material"
   ]
  },
  {
   "cell_type": "code",
   "execution_count": null,
   "metadata": {},
   "outputs": [],
   "source": [
    "Peanutbuttermaterial = materials[-1]\n",
    "idf1.copyidfobject(Peanutbuttermaterial)\n",
    "materials = idf1.idfobjects[\"MATERIAL\"]\n",
    "len(materials)\n",
    "materials[-1]"
   ]
  },
  {
   "cell_type": "markdown",
   "metadata": {},
   "source": [
    "## Looping through E+ objects"
   ]
  },
  {
   "cell_type": "markdown",
   "metadata": {},
   "source": [
    "If you have read the python explanation of loops, you are now masters of using loops.\n",
    "\n",
    "Let us use the loops with E+ objects.\n",
    "\n",
    "We'll continue to work with the materials list."
   ]
  },
  {
   "cell_type": "code",
   "execution_count": null,
   "metadata": {},
   "outputs": [],
   "source": [
    "for material in materials:\n",
    "    print material.Name "
   ]
  },
  {
   "cell_type": "code",
   "execution_count": null,
   "metadata": {},
   "outputs": [],
   "source": [
    "[material.Name for material in materials] "
   ]
  },
  {
   "cell_type": "code",
   "execution_count": null,
   "metadata": {},
   "outputs": [],
   "source": [
    "[material.Roughness for material in materials]"
   ]
  },
  {
   "cell_type": "code",
   "execution_count": null,
   "metadata": {},
   "outputs": [],
   "source": [
    "[material.Thickness for material in materials]"
   ]
  },
  {
   "cell_type": "code",
   "execution_count": null,
   "metadata": {},
   "outputs": [],
   "source": [
    "[material.Thickness for material in materials if material.Thickness > 0.1]"
   ]
  },
  {
   "cell_type": "code",
   "execution_count": null,
   "metadata": {},
   "outputs": [],
   "source": [
    "[material.Name for material in materials if material.Thickness > 0.1]"
   ]
  },
  {
   "cell_type": "code",
   "execution_count": null,
   "metadata": {},
   "outputs": [],
   "source": [
    "thick_materials = [material for material in materials if material.Thickness > 0.1]"
   ]
  },
  {
   "cell_type": "code",
   "execution_count": null,
   "metadata": {},
   "outputs": [],
   "source": [
    "thick_materials"
   ]
  },
  {
   "cell_type": "code",
   "execution_count": null,
   "metadata": {},
   "outputs": [],
   "source": [
    "# change the names of the thick materials\n",
    "for material in thick_materials:\n",
    "    material.Name = \"THICK \" + material.Name   "
   ]
  },
  {
   "cell_type": "code",
   "execution_count": null,
   "metadata": {},
   "outputs": [],
   "source": [
    "thick_materials"
   ]
  },
  {
   "cell_type": "markdown",
   "metadata": {},
   "source": [
    "So now we're working with two different lists: materials and thick_materials.\n",
    "\n",
    "But even though the items can be separated into two lists, we're still working with the same items.\n",
    "\n",
    "Here's a helpful illustration:"
   ]
  },
  {
   "cell_type": "code",
   "execution_count": null,
   "metadata": {},
   "outputs": [],
   "source": [
    "# here's the same concept, demonstrated with code\n",
    "# remember, we changed the names of the items in the list thick_materials\n",
    "# these changes are visible when we print the materials list; the thick materials are also in the materials list\n",
    "[material.Name for material in materials]"
   ]
  },
  {
   "cell_type": "markdown",
   "metadata": {},
   "source": [
    "## Geometry functions in eppy"
   ]
  },
  {
   "cell_type": "markdown",
   "metadata": {},
   "source": [
    "Sometimes, we want information about the E+ object that is not in the fields. For example, it would be useful to know the areas and orientations of the surfaces. These attributes of the surfaces are not in the fields of surfaces, but surface objects *do* have fields that have the coordinates of the surface. The areas and orientations can be calculated from these coordinates.  \n",
    "\n",
    "Pyeplus has some functions that will do the calculations.  \n",
    "\n",
    "In the present version, pyeplus will calculate:\n",
    "\n",
    "- surface azimuth\n",
    "- surface tilt\n",
    "- surface area\n",
    "\n",
    "Let us explore these functions"
   ]
  },
  {
   "cell_type": "code",
   "execution_count": null,
   "metadata": {},
   "outputs": [],
   "source": [
    "idf1 = IDF(\"5ZoneSupRetPlenRAB.idf\")\n",
    "surfaces = idf1.idfobjects['BUILDINGSURFACE:DETAILED']"
   ]
  },
  {
   "cell_type": "code",
   "execution_count": null,
   "metadata": {},
   "outputs": [],
   "source": [
    "# Let us look at the first surface\n",
    "surface = surfaces[0]\n",
    "print \"surface azimuth =\",  surface.azimuth, \"degrees\"\n",
    "print \"surface tilt =\", surface.tilt, \"degrees\"\n",
    "print \"surface area =\", surface.area, \"m2\"\n"
   ]
  },
  {
   "cell_type": "code",
   "execution_count": null,
   "metadata": {},
   "outputs": [],
   "source": [
    "# all the surface names\n",
    "s_names = [surface.Name for surface in surfaces]\n",
    "print s_names[:5] # print five of them\n"
   ]
  },
  {
   "cell_type": "code",
   "execution_count": null,
   "metadata": {},
   "outputs": [],
   "source": [
    "# surface names and azimuths\n",
    "s_names_azm = [(sf.Name, sf.azimuth) for sf in surfaces]\n",
    "print s_names_azm[:5] # print five of them\n"
   ]
  },
  {
   "cell_type": "code",
   "execution_count": null,
   "metadata": {},
   "outputs": [],
   "source": [
    "# or to do that in pretty printing\n",
    "for name, azimuth in s_names_azm[:5]: # just five of them\n",
    "    print name, azimuth\n",
    "    "
   ]
  },
  {
   "cell_type": "code",
   "execution_count": null,
   "metadata": {},
   "outputs": [],
   "source": [
    "# surface names and tilt\n",
    "s_names_tilt = [(sf.Name, sf.tilt) for sf in surfaces]\n",
    "\n",
    "for name, tilt in s_names_tilt[:5]: # just five of them\n",
    "    print name, tilt"
   ]
  },
  {
   "cell_type": "code",
   "execution_count": null,
   "metadata": {},
   "outputs": [],
   "source": [
    "# surface names and areas\n",
    "s_names_area = [(sf.Name, sf.area) for sf in surfaces]\n",
    "\n",
    "for name, area in s_names_area[:5]: # just five of them\n",
    "    print name, area, \"m2\""
   ]
  },
  {
   "cell_type": "markdown",
   "metadata": {},
   "source": [
    "Let us try to isolate the exterior north facing walls and change their construnctions"
   ]
  },
  {
   "cell_type": "code",
   "execution_count": null,
   "metadata": {},
   "outputs": [],
   "source": [
    "# just vertical walls\n",
    "vertical_walls = [sf for sf in surfaces if sf.tilt == 90.0]\n",
    "print [sf.Name for sf in vertical_walls]"
   ]
  },
  {
   "cell_type": "code",
   "execution_count": null,
   "metadata": {},
   "outputs": [],
   "source": [
    "# north facing walls\n",
    "north_walls = [sf for sf in vertical_walls if sf.azimuth == 0.0]\n",
    "print [sf.Name for sf in north_walls]"
   ]
  },
  {
   "cell_type": "code",
   "execution_count": null,
   "metadata": {},
   "outputs": [],
   "source": [
    "# north facing exterior walls\n",
    "exterior_nwall = [sf for sf in north_walls if sf.Outside_Boundary_Condition == \"Outdoors\"]\n",
    "print [sf.Name for sf in exterior_nwall]"
   ]
  },
  {
   "cell_type": "code",
   "execution_count": null,
   "metadata": {},
   "outputs": [],
   "source": [
    "# print out some more details of the north wall\n",
    "north_wall_info = [(sf.Name, sf.azimuth, sf.Construction_Name) for sf in exterior_nwall]\n",
    "for name, azimuth, construction in north_wall_info:\n",
    "    print name, azimuth, construction   "
   ]
  },
  {
   "cell_type": "code",
   "execution_count": null,
   "metadata": {},
   "outputs": [],
   "source": [
    "# change the construction in the exterior north walls\n",
    "for wall in exterior_nwall:\n",
    "    wall.Construction_Name = \"NORTHERN-WALL\" # make sure such a construction exists in the model   "
   ]
  },
  {
   "cell_type": "code",
   "execution_count": null,
   "metadata": {},
   "outputs": [],
   "source": [
    "# see the change\n",
    "north_wall_info = [(sf.Name, sf.azimuth, sf.Construction_Name) for sf in exterior_nwall]\n",
    "for name, azimuth, construction in north_wall_info:\n",
    "    print name, azimuth, construction  "
   ]
  },
  {
   "cell_type": "code",
   "execution_count": null,
   "metadata": {},
   "outputs": [],
   "source": [
    "# see this in all surfaces\n",
    "for sf in surfaces:\n",
    "    print sf.Name, sf.azimuth, sf.Construction_Name"
   ]
  },
  {
   "cell_type": "markdown",
   "metadata": {},
   "source": [
    "You can see the \"NORTHERN-WALL\" in the print out above.\n",
    "\n",
    "This shows that very sophisticated modification can be made to the model rather quickly. "
   ]
  }
 ],
 "metadata": {
  "hide_input": false,
  "kernelspec": {
   "display_name": "Python 2",
   "language": "python",
   "name": "python2"
  },
  "language_info": {
   "codemirror_mode": {
    "name": "ipython",
    "version": 2
   },
   "file_extension": ".py",
   "mimetype": "text/x-python",
   "name": "python",
   "nbconvert_exporter": "python",
   "pygments_lexer": "ipython2",
   "version": "2.7.13"
  }
 },
 "nbformat": 4,
 "nbformat_minor": 1
}
