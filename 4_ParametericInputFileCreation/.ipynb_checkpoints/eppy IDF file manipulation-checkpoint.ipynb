{
 "cells": [
  {
   "cell_type": "markdown",
   "metadata": {},
   "source": [
    "## `eppy` Tutorial Scenarios\n",
    "\n",
    "Created by: Clayton Miller\n",
    "\n",
    "The goal of this tutorial is to show how to use the `eppy` library in a realistic setting by performing the following tasks:\n",
    "\n",
    "- splitting an IDF file into 'modules' that can be developed individually\n",
    "\n",
    "- reassembling the modules into IDF files for simulation\n",
    "\n",
    "- creating parametric run files from a single IDF file and a spreadsheet\n",
    "\n",
    "## Scenario #1. Splitting an IDF file into 'modules'\n",
    "\n",
    "In order to illustrate this process, we will use an example EnergyPlus IDF file from the U.S. DOE library of example input files:\n",
    "\n",
    "http://energy.gov/eere/buildings/commercial-reference-buildings"
   ]
  },
  {
   "cell_type": "code",
   "execution_count": null,
   "metadata": {},
   "outputs": [],
   "source": [
    "from eppy import modeleditor \n",
    "from eppy.modeleditor import IDF"
   ]
  },
  {
   "cell_type": "markdown",
   "metadata": {},
   "source": [
    "eppy requires that we load the `.idd` from EnergyPlus and the `.idf` that we want to manipulate"
   ]
  },
  {
   "cell_type": "code",
   "execution_count": null,
   "metadata": {},
   "outputs": [],
   "source": [
    "IDF.setiddname(\"Energy+V7_2_0.idd\")"
   ]
  },
  {
   "cell_type": "code",
   "execution_count": null,
   "metadata": {},
   "outputs": [],
   "source": [
    "wholeidffile = IDF(\"RefBldgLargeOfficeNew2004_v1.4_7.2_5A_USA_IL_CHICAGO-OHARE.idf\")"
   ]
  },
  {
   "cell_type": "markdown",
   "metadata": {},
   "source": [
    "The `.idfobjects` function is what we use to look inside the idf to view all of the object types and instances"
   ]
  },
  {
   "cell_type": "code",
   "execution_count": null,
   "metadata": {},
   "outputs": [],
   "source": [
    "objectlist = wholeidffile.idfobjects"
   ]
  },
  {
   "cell_type": "code",
   "execution_count": null,
   "metadata": {},
   "outputs": [],
   "source": [
    "print objectlist"
   ]
  },
  {
   "cell_type": "code",
   "execution_count": null,
   "metadata": {},
   "outputs": [],
   "source": [
    "objectnamelist = []"
   ]
  },
  {
   "cell_type": "code",
   "execution_count": null,
   "metadata": {},
   "outputs": [],
   "source": [
    "for objectname in objectlist:\n",
    "    objectnamelist.append(objectname)"
   ]
  },
  {
   "cell_type": "markdown",
   "metadata": {},
   "source": [
    "Let's use the `pandas` library again to use the `Series` and `.csv` file import/export capabilities"
   ]
  },
  {
   "cell_type": "code",
   "execution_count": null,
   "metadata": {},
   "outputs": [],
   "source": [
    "import pandas as pd"
   ]
  },
  {
   "cell_type": "markdown",
   "metadata": {},
   "source": [
    "Here we create a pandas series (1-dimensional) of the possible object 'types' within EnergyPlus"
   ]
  },
  {
   "cell_type": "code",
   "execution_count": null,
   "metadata": {},
   "outputs": [],
   "source": [
    "nameseries = pd.Series(objectnamelist)"
   ]
  },
  {
   "cell_type": "code",
   "execution_count": null,
   "metadata": {},
   "outputs": [],
   "source": [
    "nameseries"
   ]
  },
  {
   "cell_type": "markdown",
   "metadata": {},
   "source": [
    "We'll export this list so that we can add the 'module' categories using excel"
   ]
  },
  {
   "cell_type": "code",
   "execution_count": null,
   "metadata": {},
   "outputs": [],
   "source": [
    "nameseries.to_csv('objectnames.csv')"
   ]
  },
  {
   "cell_type": "markdown",
   "metadata": {},
   "source": [
    "Now, we upload the created `csv` file in which we have already manually categorized each of the object types such that we can divide the IDF into 'modules'"
   ]
  },
  {
   "cell_type": "code",
   "execution_count": null,
   "metadata": {},
   "outputs": [],
   "source": [
    "categorizedobjects = pd.read_csv('catagorized_objectnames.csv', header=None, names=['index','objectname','objectcatagory'], index_col='index')"
   ]
  },
  {
   "cell_type": "markdown",
   "metadata": {},
   "source": [
    "Let's use the `.unique()` function to get a list of the categories that we put into the spreadsheet"
   ]
  },
  {
   "cell_type": "code",
   "execution_count": null,
   "metadata": {},
   "outputs": [],
   "source": [
    "categorizedobjects.objectcatagory.unique()"
   ]
  },
  {
   "cell_type": "markdown",
   "metadata": {},
   "source": [
    "Let's loop through and call each category and get the objectnames within each category"
   ]
  },
  {
   "cell_type": "code",
   "execution_count": null,
   "metadata": {},
   "outputs": [],
   "source": [
    "for category in categorizedobjects.objectcatagory.unique():\n",
    "    print list(categorizedobjects[(categorizedobjects.objectcatagory == category)].objectname)"
   ]
  },
  {
   "cell_type": "markdown",
   "metadata": {},
   "source": [
    "Let's call an individual object 'type' of `AIRLOOPHVAC` and get a list of the individual object instances within the whole IDF file"
   ]
  },
  {
   "cell_type": "code",
   "execution_count": null,
   "metadata": {},
   "outputs": [],
   "source": [
    "wholeidffile.idfobjects[\"AIRLOOPHVAC\"]"
   ]
  },
  {
   "cell_type": "code",
   "execution_count": null,
   "metadata": {},
   "outputs": [],
   "source": [
    "objectnamelist = wholeidffile.idfobjects[\"AIRLOOPHVAC\"]"
   ]
  },
  {
   "cell_type": "markdown",
   "metadata": {},
   "source": [
    "We can loop through this list and call the individual object instance 'names'"
   ]
  },
  {
   "cell_type": "code",
   "execution_count": null,
   "metadata": {},
   "outputs": [],
   "source": [
    "for objectname in objectnamelist:\n",
    "    print objectname.Name"
   ]
  },
  {
   "cell_type": "markdown",
   "metadata": {},
   "source": [
    "Here we will go through relatively complex series of `for` loops to:\n",
    "\n",
    "1. Loop through each category type\n",
    "- Loop through each object in each category\n",
    "- Extract these objects and copy them into their own 'category' idf file"
   ]
  },
  {
   "cell_type": "code",
   "execution_count": null,
   "metadata": {},
   "outputs": [],
   "source": [
    "for category in categorizedobjects.objectcatagory.unique():\n",
    "    \n",
    "    #Create a list of the objects in each category\n",
    "    list_of_category_objs = list(categorizedobjects[(categorizedobjects.objectcatagory == category)].objectname)\n",
    "    \n",
    "    #Open the blank IDF file with the same name as the categories\n",
    "    catIDF = IDF(\"./blankidftemplates/\"+category+\".idf\")\n",
    "    \n",
    "    for catobj in list_of_category_objs:\n",
    "#         print category + catobj\n",
    "#         print wholeidffile.idfobjects[catobj]\n",
    "        \n",
    "        objectnamelist = wholeidffile.idfobjects[catobj]\n",
    "        \n",
    "        if len(objectnamelist) != 0:\n",
    "#             print objectnamelist\n",
    "            \n",
    "            for idfobject in objectnamelist:\n",
    "                try:\n",
    "                    print idfobject.Name\n",
    "                except:\n",
    "                    print \"No Name field\"\n",
    "\n",
    "                #Add each object to the new 'modularized' idf file\n",
    "                catIDF.copyidfobject(idfobject)\n",
    "                \n",
    "    catIDF.saveas(\"./modularizedidfs/\"+category+\"_updated.idf\")"
   ]
  },
  {
   "cell_type": "markdown",
   "metadata": {},
   "source": [
    "## 2. Scenario #2 -- Parameteric modeling\n",
    "\n",
    "Now let's say that we want to go through and create a series of new IDF files with each file have slightly different values for a particular variable. In this example, we are going to create 10 different IDF files, each having different `ZoneInfiltration:DesignFlowRate` values.\n",
    "\n",
    "First, let's reload the whole idf file:"
   ]
  },
  {
   "cell_type": "code",
   "execution_count": null,
   "metadata": {},
   "outputs": [],
   "source": [
    "wholeidffile = IDF(\"RefBldgLargeOfficeNew2004_v1.4_7.2_5A_USA_IL_CHICAGO-OHARE.idf\")"
   ]
  },
  {
   "cell_type": "markdown",
   "metadata": {},
   "source": [
    "Let's see all of the existing `ZONEINFILTRATION:DESIGNFLOWRATE` objects"
   ]
  },
  {
   "cell_type": "code",
   "execution_count": null,
   "metadata": {},
   "outputs": [],
   "source": [
    "wholeidffile.idfobjects['ZONEINFILTRATION:DESIGNFLOWRATE']"
   ]
  },
  {
   "cell_type": "markdown",
   "metadata": {},
   "source": [
    "Ok, so it looks like all of these objects have a 'Flow per Exterior Surface Area' of 0.000302. \n",
    "\n",
    "### Let's create 10 new IDF files that have values for this particular field of an equal range between 0.0001 and 0.0010.\n",
    "\n",
    "First create a list of the values:"
   ]
  },
  {
   "cell_type": "code",
   "execution_count": null,
   "metadata": {},
   "outputs": [],
   "source": [
    "import numpy\n",
    "flowpersurfacearea_list = numpy.linspace(0.0001, 0.001, num=10)"
   ]
  },
  {
   "cell_type": "code",
   "execution_count": null,
   "metadata": {},
   "outputs": [],
   "source": [
    "flowpersurfacearea_list"
   ]
  },
  {
   "cell_type": "markdown",
   "metadata": {},
   "source": [
    "If we loop through the infiltration objects, we will see that all of them are set to `0.00032`"
   ]
  },
  {
   "cell_type": "code",
   "execution_count": null,
   "metadata": {},
   "outputs": [],
   "source": [
    "for objectinstance in wholeidffile.idfobjects['ZONEINFILTRATION:DESIGNFLOWRATE']: \n",
    "        print objectinstance['Flow_per_Exterior_Surface_Area']"
   ]
  },
  {
   "cell_type": "markdown",
   "metadata": {},
   "source": [
    "Let's loop through each of these values, change the particular field in the `ZONEINFILTRATION:DESIGNFLOWRATE` and create an IDF file for each situation"
   ]
  },
  {
   "cell_type": "code",
   "execution_count": null,
   "metadata": {},
   "outputs": [],
   "source": [
    "for flowpersurfacearea in flowpersurfacearea_list:\n",
    "    \n",
    "    print \"Creating IDF file with ZONEINFILTRATION:DESIGNFLOWRATE of \"+ str(flowpersurfacearea)\n",
    "\n",
    "    for objectinstance in wholeidffile.idfobjects['ZONEINFILTRATION:DESIGNFLOWRATE']:\n",
    "                \n",
    "        objectinstance['Flow_per_Exterior_Surface_Area'] = flowpersurfacearea\n",
    "        \n",
    "    wholeidffile.saveas(\"./ParametricIDF/IDF_\"+str(flowpersurfacearea)+\".idf\")\n",
    "        "
   ]
  }
 ],
 "metadata": {
  "hide_input": false,
  "kernelspec": {
   "display_name": "Python 2",
   "language": "python",
   "name": "python2"
  },
  "language_info": {
   "codemirror_mode": {
    "name": "ipython",
    "version": 2
   },
   "file_extension": ".py",
   "mimetype": "text/x-python",
   "name": "python",
   "nbconvert_exporter": "python",
   "pygments_lexer": "ipython2",
   "version": "2.7.13"
  }
 },
 "nbformat": 4,
 "nbformat_minor": 1
}
