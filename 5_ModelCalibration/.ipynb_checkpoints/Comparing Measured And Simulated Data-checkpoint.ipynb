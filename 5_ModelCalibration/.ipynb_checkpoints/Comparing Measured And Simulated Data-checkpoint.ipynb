{
 "cells": [
  {
   "cell_type": "markdown",
   "metadata": {},
   "source": [
    "# Comparison of Measured and Simulated Data for Building Performance Analysis\n",
    "\n",
    "This notebook follows part of the calibration process outlined in the IBPSA-USA 2014 Conference Paper entitled: *BIM-EXTRACTED ENERGYPLUS MODEL CALIBRATION FOR RETROFIT ANALYSIS OF A HISTORICALLY LISTED BUILDING IN SWITZERLAND*\n",
    "\n",
    "The full paper can be found online:\n",
    "\n",
    "https://www.researchgate.net/publication/263547831_BIM-extracted_Energyplus_model_calibration_for_retrofit_analysis_of_a_historically_listed_building_in_Switzerland\n",
    "\n",
    "Created  by Clayton Miller (miller.clayton@arch.ethz.ch)"
   ]
  },
  {
   "cell_type": "markdown",
   "metadata": {},
   "source": [
    "### We have a scenario here where we have measured data for a heating system of a building and we want to compare the measured data to that of an EnergyPlus model for calibration purposes.\n",
    "\n",
    "## 1. Baseline Model Calibration\n",
    "\n",
    "First we need to load the appropriate libraries:"
   ]
  },
  {
   "cell_type": "code",
   "execution_count": null,
   "metadata": {
    "collapsed": true
   },
   "outputs": [],
   "source": [
    "%matplotlib inline"
   ]
  },
  {
   "cell_type": "code",
   "execution_count": null,
   "metadata": {},
   "outputs": [],
   "source": [
    "#Load all libraries\n",
    "import pandas as pd\n",
    "import datetime\n",
    "from datetime import timedelta\n",
    "import time"
   ]
  },
  {
   "cell_type": "markdown",
   "metadata": {},
   "source": [
    "These are parameter settings for the `matplotlib` graphics:"
   ]
  },
  {
   "cell_type": "code",
   "execution_count": null,
   "metadata": {},
   "outputs": [],
   "source": [
    "# general settings\n",
    "show_images = True # show equations etc.?\n",
    "language_german = False; # False -> english, True -> german"
   ]
  },
  {
   "cell_type": "markdown",
   "metadata": {},
   "source": [
    "## Load the Measured Heating Data\n",
    "\n",
    "First, we will load the measured dataset for the project."
   ]
  },
  {
   "cell_type": "code",
   "execution_count": null,
   "metadata": {},
   "outputs": [],
   "source": [
    "HeatingSystemMeasurementData = pd.read_csv('MeasuredHeatingData2.csv',index_col='Date_Time', parse_dates=True, dayfirst=True)"
   ]
  },
  {
   "cell_type": "code",
   "execution_count": null,
   "metadata": {},
   "outputs": [],
   "source": [
    "HeatingSystemMeasurementData.resample('30min').mean().plot(figsize=(20,10));"
   ]
  },
  {
   "cell_type": "code",
   "execution_count": null,
   "metadata": {},
   "outputs": [],
   "source": [
    "HeatingSystemMeasurementData.head()"
   ]
  },
  {
   "cell_type": "code",
   "execution_count": null,
   "metadata": {},
   "outputs": [],
   "source": [
    "if language_german:\n",
    "    ylabel_str = \"Heizenergie [kWh] / Temperatur [C] / Durchflussrate [l/s]\"\n",
    "    xlabel_str = 'Datum'\n",
    "    title_str  = \"Messdaten Heizungssystem\"\n",
    "    label_str = ['Durchfluss','Vorlauftemperatur','Rücklauftemperatur','Heizenergie']\n",
    "else:\n",
    "    ylabel_str = \"Heating Energy [kWh] / Temperature [C] / Flow Rate [l/s]\"\n",
    "    xlabel_str = 'Date'\n",
    "    title_str = \"Measured Heating System Data\"\n",
    "    label_str = ['Water Flow Rate','Supply Temperature','Return Temperature','Heating Energy']\n",
    "    \n",
    "ContractorHeatingMeasure = HeatingSystemMeasurementData.resample('30min').mean().plot(figsize=(25,10))\n",
    "ContractorHeatingMeasure.set_ylabel(ylabel_str); ContractorHeatingMeasure.set_title(title_str); ContractorHeatingMeasure.set_xlabel(xlabel_str);\n",
    "ContractorHeatingMeasure.legend(label_str,loc=4)\n",
    "# plt.savefig('Measured_Data.pdf')"
   ]
  },
  {
   "cell_type": "code",
   "execution_count": null,
   "metadata": {},
   "outputs": [],
   "source": [
    "MeasuredHeatingData = pd.DataFrame(HeatingSystemMeasurementData['Warmefluss '].resample('H').mean())\n",
    "MeasuredHeatingData.columns = ['Measured Data']\n",
    "MeasuredHeatingData"
   ]
  },
  {
   "cell_type": "markdown",
   "metadata": {},
   "source": [
    "## Load the Temperature Measurement System Data\n",
    "\n",
    "Temperature data was collected from many of the zones in order to establish estimates for the zone heating control strategies."
   ]
  },
  {
   "cell_type": "code",
   "execution_count": null,
   "metadata": {},
   "outputs": [],
   "source": [
    "MeasuredTempData = pd.read_csv('MeasuredTempData2.csv',sep=',', index_col='timestamp')"
   ]
  },
  {
   "cell_type": "code",
   "execution_count": null,
   "metadata": {},
   "outputs": [],
   "source": [
    "MeasuredTempData#.resample('D')"
   ]
  },
  {
   "cell_type": "code",
   "execution_count": null,
   "metadata": {},
   "outputs": [],
   "source": [
    "# get indices for columns that contain 'INTtemperature'\n",
    "idx = [i for i, col in enumerate(MeasuredTempData.columns) if 'INTtemperature' in col]\n",
    "#idx\n",
    "\n",
    "InteriorTemperatures = MeasuredTempData[MeasuredTempData.columns[idx]]#.resample('30min').truncate(before='2013-01-30')\n",
    "IntTemp = InteriorTemperatures.plot(figsize=(25,10),xticks=range(0,850,96))\n",
    "if language_german:\n",
    "    ylabel_str = \"Raumtemperatur [C]\"; xlabel_str = \"Datum\"; title_str = \"Raumteperaturen Gemessen\"\n",
    "else:\n",
    "    ylabel_str = \"Zone Temperature [C]\"; xlabel_str = \"Date\"; title_str = \"Measured Indoor Temperatures\"\n",
    "    \n",
    "IntTemp.set_ylabel(ylabel_str); IntTemp.set_xlabel(xlabel_str); IntTemp.set_title(title_str)\n",
    "\n",
    "handles, labels = IntTemp.get_legend_handles_labels()\n",
    "labels = [l.replace(\"('\",'').replace(\"', 'INTtemperature')\",'') for l in labels]\n",
    "if language_german:\n",
    "    labels = [l.replace('Buro','Büro').replace('Treppe','Treppenhaus') for l in labels]\n",
    "else:\n",
    "    labels = [l.replace('Buro','Office').replace('Treppe','Stairwell') for l in labels]\n",
    "\n",
    "IntTemp.legend(labels)\n",
    "labels = IntTemp.get_xticklabels();\n",
    "labels = [l.get_text().replace(' 00:00:00','') for l in labels]\n",
    "IntTemp.set_xticklabels(labels,rotation=30);\n",
    "# plt.savefig('MeasuredIndoorTemperatures.pdf')"
   ]
  },
  {
   "cell_type": "markdown",
   "metadata": {},
   "source": [
    "## Energyplus Simulations\n",
    "\n",
    "Now we load the data from the EnergyPlus simulations of the building.\n",
    "\n",
    "The first step is to load the functions which convert the timestamps to the proper format and to load the data"
   ]
  },
  {
   "cell_type": "code",
   "execution_count": null,
   "metadata": {},
   "outputs": [],
   "source": [
    "#Function to convert timestamps\n",
    "def eplustimestamp(simdata,year_start_time=2013):\n",
    "    timestampdict={}\n",
    "    for i,row in simdata.T.iteritems():\n",
    "        timestamp = str(year_start_time) + row['Date/Time']\n",
    "        try:\n",
    "            timestampdict[i] = datetime.datetime.strptime(timestamp,'%Y %m/%d  %H:%M:%S')\n",
    "        except ValueError:\n",
    "            tempts = timestamp.replace(' 24', ' 23')\n",
    "            timestampdict[i] = datetime.datetime.strptime(tempts,'%Y %m/%d  %H:%M:%S')\n",
    "            timestampdict[i] += timedelta(hours=1)\n",
    "    timestampseries = pd.Series(timestampdict)\n",
    "    return timestampseries"
   ]
  },
  {
   "cell_type": "code",
   "execution_count": null,
   "metadata": {},
   "outputs": [],
   "source": [
    "def loadsimdata(file,pointname,ConvFactor,year_start_time=2013):\n",
    "    df = pd.read_csv(file)\n",
    "    df['desiredpoint'] = df[pointname]*ConvFactor\n",
    "    df.index = eplustimestamp(df,year_start_time)\n",
    "    pointdf = df['desiredpoint']\n",
    "    return pointdf"
   ]
  },
  {
   "cell_type": "markdown",
   "metadata": {},
   "source": [
    "This `for` loop cycles through each of the simulation files and loads the necessary energy data for comparison to the measured data"
   ]
  },
  {
   "cell_type": "code",
   "execution_count": null,
   "metadata": {},
   "outputs": [],
   "source": [
    "Simlist = ['Sim1Data.csv','Sim2Data.csv','Sim3Data.csv','Sim4Data.csv']\n",
    "SimHeatingDataList = []\n",
    "for file in Simlist:\n",
    "    print 'Loading '+file\n",
    "    x = loadsimdata(file,'EMS:All Zones Total Heating Energy {J}(Hourly)',0.0000002778)\n",
    "    SimHeatingDataList.append(x)"
   ]
  },
  {
   "cell_type": "markdown",
   "metadata": {},
   "source": [
    "We then concatenate the individual files and plot the results"
   ]
  },
  {
   "cell_type": "code",
   "execution_count": null,
   "metadata": {},
   "outputs": [],
   "source": [
    "SimHeatingData = pd.concat(SimHeatingDataList, axis=1, keys=Simlist)"
   ]
  },
  {
   "cell_type": "code",
   "execution_count": null,
   "metadata": {},
   "outputs": [],
   "source": [
    "SimHeatingData.resample('D').mean().plot(figsize=(20,10))"
   ]
  },
  {
   "cell_type": "markdown",
   "metadata": {},
   "source": [
    "## Combine the Measured and Simulated Heating Data\n",
    "\n",
    "Now, we can merge the measured and simulated data to perform a calibration comparison"
   ]
  },
  {
   "cell_type": "code",
   "execution_count": null,
   "metadata": {},
   "outputs": [],
   "source": [
    "CombinedHeating = pd.merge(SimHeatingData, MeasuredHeatingData, right_index=True, left_index=True)\n",
    "CombinedHeating.head()"
   ]
  },
  {
   "cell_type": "code",
   "execution_count": null,
   "metadata": {},
   "outputs": [],
   "source": [
    "do_truncate = True;\n",
    "\n",
    "if do_truncate:\n",
    "    SimVsMeasHeating = CombinedHeating.truncate(after='2013-02-06').plot(figsize=(25,10),linewidth=2)\n",
    "else:\n",
    "    SimVsMeasHeating = CombinedHeating.plot(figsize=(25,10),linewidth=2)\n",
    "\n",
    "if language_german:\n",
    "    ylabel_str = 'Heizenergie [kWh]'; xlabel_str = \"Datum\"; title_str = 'Vergleich Messung / Simulation';\n",
    "    labels = ['Simulation, Iteration 1', 'Simulation, Iteration 2', 'Simulation, Iteration 3', 'Simulation, Iteration 4', 'Messdaten']\n",
    "else:\n",
    "    ylabel_str = 'Heating Energy [kWh]'; xlabel_str = \"Date\"; title_str = 'Measured vs. Simulated Heating Comparison';\n",
    "    labels = ['Simulation, Iteration 1', 'Simulation, Iteration 2', 'Simulation, Iteration 3', 'Simulation, Iteration 4', 'Measured Data']\n",
    "\n",
    "SimVsMeasHeating.set_ylabel(ylabel_str); SimVsMeasHeating.set_xlabel(xlabel_str); SimVsMeasHeating.set_title(title_str);\n",
    "SimVsMeasHeating.legend(labels,loc=4)\n",
    "\n",
    "# if do_truncate:\n",
    "#     savefig('Measured_vs_Simulated_zoom.pdf')\n",
    "# else:\n",
    "#     savefig('Measured_vs_Simulated.pdf')"
   ]
  },
  {
   "cell_type": "code",
   "execution_count": null,
   "metadata": {},
   "outputs": [],
   "source": [
    "from __future__ import division"
   ]
  },
  {
   "cell_type": "code",
   "execution_count": null,
   "metadata": {},
   "outputs": [],
   "source": []
  },
  {
   "cell_type": "code",
   "execution_count": null,
   "metadata": {},
   "outputs": [],
   "source": [
    "CombinedHeating"
   ]
  },
  {
   "cell_type": "markdown",
   "metadata": {},
   "source": [
    "We compare the measured and simulated datasets using two metrics established by ASHRAE standard 14 and the IPMVP:"
   ]
  },
  {
   "cell_type": "code",
   "execution_count": null,
   "metadata": {},
   "outputs": [],
   "source": [
    "dataset = 'Sim4Data.csv'\n",
    "NMBE = 100*(sum(CombinedHeating['Measured Data'] - CombinedHeating[dataset] )/(CombinedHeating['Measured Data'].count()*CombinedHeating['Measured Data'].mean()))\n",
    "CVRSME = 100*((sum((CombinedHeating['Measured Data'] - CombinedHeating[dataset] )**2)/(CombinedHeating['Measured Data'].count()-1))**(0.5))/CombinedHeating['Measured Data'].mean()"
   ]
  },
  {
   "cell_type": "code",
   "execution_count": null,
   "metadata": {},
   "outputs": [],
   "source": [
    "print 'NMBE: ' + str(round(NMBE,2)) + '    CVRSME : ' + str(round(CVRSME,2))"
   ]
  },
  {
   "cell_type": "markdown",
   "metadata": {},
   "source": [
    "Acceptable limits are outlined in ASHRAE Guideline 14 (https://www.ashrae.org/standards-research--technology/standards--guidelines/titles-purposes-and-scopes#Gdl14)"
   ]
  },
  {
   "cell_type": "code",
   "execution_count": null,
   "metadata": {},
   "outputs": [],
   "source": [
    "from IPython.core.display import Image\n",
    "Image(filename='./ashrae14calibrationmetrics.png')"
   ]
  },
  {
   "cell_type": "markdown",
   "metadata": {},
   "source": [
    "## Analysis of Retrofit Scenarios\n",
    "\n",
    "Since we've established reasonable calibration according to hourly data, let's look at the retrofit scenarios:"
   ]
  },
  {
   "cell_type": "code",
   "execution_count": null,
   "metadata": {},
   "outputs": [],
   "source": [
    "SimRetrofitList = ['Sim4Data.csv',\n",
    "                   'Retrofit1_Windows.csv',\n",
    "                   'Retrofit1_Plaster.csv',\n",
    "                   'Retrofit2_Aerogel.csv',\n",
    "                   'Retrofit1_Ceiling.csv',\n",
    "                   'Retrofit1_AirtightnessHigh.csv',\n",
    "                   'Retrofit1.csv',\n",
    "                   'Retrofit2.csv']\n",
    "SimRetrofitDataList = []\n",
    "for file in SimRetrofitList:\n",
    "    try:\n",
    "        x = loadsimdata('./'+file,'EMS:All Zones Total Heating Energy {J}(Hourly)',0.0000002778,\"2012\")\n",
    "    except: \n",
    "        continue\n",
    "    SimRetrofitDataList.append(x)"
   ]
  },
  {
   "cell_type": "code",
   "execution_count": null,
   "metadata": {},
   "outputs": [],
   "source": [
    "def get_retrofit_labels(labels,language_german):\n",
    "    if language_german:\n",
    "        labels = [l.replace('Sim4HC_SB3_','Ausgangszustand + ').replace('Sim4HC_SB3','Ausgangszustand').replace('1_',' nur ').replace('2_',' nur ').replace('Annual','').replace('Ausgangszustand + Retrofit','Retrofit ') for l in labels]\n",
    "    else:\n",
    "        labels = [l.replace('Sim4HC_SB3_','Baseline + ').replace('Sim4HC_SB3','Baseline').replace('1_',' only ').replace('2_',' only ').replace('Annual','').replace('Baseline + Retrofit','Retrofit') for l in labels]\n",
    "    return labels"
   ]
  },
  {
   "cell_type": "code",
   "execution_count": null,
   "metadata": {},
   "outputs": [],
   "source": [
    "SimRetrofitData = pd.concat(SimRetrofitDataList, axis=1, keys=SimRetrofitList)\n",
    "SimRetrofitHeating = SimRetrofitData.tshift(-1,freq='H').resample('D').sum().plot(figsize=(25,10),linewidth=1)\n",
    "\n",
    "handles, labels = SimRetrofitHeating.get_legend_handles_labels()\n",
    "\n",
    "if language_german:\n",
    "    ylabel_str = 'Gesamt-Heizenergie pro Tag [kWh]'; xlabel_str = \"Datum\"; title_str = 'Vergleich Simulation Ausgangszustand und Renovations-Szenarien';\n",
    "else:\n",
    "    ylabel_str = 'Total Heating Energy per Day [kWh]'; xlabel_str = 'Date'; title_str = 'Simulated Baseline vs. Retrofit Scenarios Comparison';\n",
    "\n",
    "SimRetrofitHeating.set_ylabel(ylabel_str); SimRetrofitHeating.set_xlabel(xlabel_str); SimRetrofitHeating.set_title(title_str)\n"
   ]
  },
  {
   "cell_type": "code",
   "execution_count": null,
   "metadata": {},
   "outputs": [],
   "source": [
    "SimRetrofitData = pd.concat(SimRetrofitDataList, axis=1, keys=SimRetrofitList);\n",
    "SimRetrofitDataHeatingMonthly = SimRetrofitData.tshift(-1,freq='H').resample('M').sum().plot(figsize=(25,10),kind='bar');\n",
    "\n",
    "handles, labels = SimRetrofitDataHeatingMonthly.get_legend_handles_labels();\n",
    "\n",
    "if language_german:\n",
    "    ylabel_str = 'Gesamt-Heizenergie pro Monat [kWh]'; xlabel_str = 'Monat der Simulationsperiode'; title_str = 'Vergleich Simulation Ausgangszustand und Renovations-Szenarien';\n",
    "else:\n",
    "    ylabel_str = 'Total Heating Energy per Month [kWh]'; xlabel_str = 'Month of Simulation Period'; title_str = 'Simulated Baseline vs. Retrofit Scenarios Comparison';\n",
    "\n",
    "SimRetrofitDataHeatingMonthly.set_ylabel(ylabel_str); SimRetrofitDataHeatingMonthly.set_xlabel(xlabel_str); SimRetrofitDataHeatingMonthly.set_title(title_str);\n",
    "\n",
    "SimRetrofitDataHeatingMonthly.set_xticklabels(['Jan','Feb','Mar','Apr','May','Jun','Jul','Aug','Sep','Oct','Nov','Dec'],rotation=0);\n"
   ]
  },
  {
   "cell_type": "markdown",
   "metadata": {},
   "source": [
    "# Compile the hours not comfortable\n",
    "\n",
    "We have to focus on the simulation `hours not comfortable` as they indicate success beyond just energy performance."
   ]
  },
  {
   "cell_type": "code",
   "execution_count": null,
   "metadata": {},
   "outputs": [],
   "source": [
    "def get_air_temperatures_of_conditioned_zones(filename,unconditioned_zones):\n",
    "    data = pd.read_csv(filename)\n",
    "    data.index = eplustimestamp(data)\n",
    "    columnlist = pd.Series(data.columns)\n",
    "    columnlist = list(columnlist[(columnlist.str.endswith(\"Zone Mean Air Temperature [C](Hourly)\"))])\n",
    "    for zonename in unconditioned_zones: # filter out unconditioned zones\n",
    "        columnlist = filter(lambda columnname: not zonename in columnname,columnlist)\n",
    "    return data[columnlist]\n",
    "\n",
    "\n",
    "def get_number_of_hours_not_comfortable(filename,unconditioned_zones):\n",
    "    # settings\n",
    "    beginocc = 6; endocc = 23; # hours occupied: beginocc < x < endocc\n",
    "    endheating = 6; beginheating = 8; # months of heating period: x < endheating OR x > beginheating\n",
    "    tempthreshold = 19.5\n",
    "    \n",
    "    # get data\n",
    "    data = get_air_temperatures_of_conditioned_zones(filename,unconditioned_zones)\n",
    "    \n",
    "    # count uncomfortable hours\n",
    "    d = dict()\n",
    "    for rowname in data: \n",
    "        row = data[rowname]\n",
    "        d[rowname.split(':')[0]] = len(row[(row < tempthreshold) \n",
    "                           & (row.index.hour > 6) & (row.index.hour < 23)\n",
    "                           & ((row.index.month > beginheating) | (row.index.month < endheating))  ])\n",
    "    return d, sum(d.values())"
   ]
  },
  {
   "cell_type": "code",
   "execution_count": null,
   "metadata": {},
   "outputs": [],
   "source": [
    "filename = 'Sim4Data.csv'\n",
    "\n",
    "unconditioned_zones = ['ZONE_U1_W', 'ZONE_U1_N', 'ZONE_U1_ST', 'ZONE_00_ST', 'ZONE_01_ST', 'ZONE_02_ST', \n",
    "                       'ZONE_03_ST', 'ZONE_04_ST', 'ZONE_04_N', 'ZONE_05_N', 'ZONE_05_S']\n",
    "unconditioned_zones.append('ZONE_U1_LA') # many uncomfortable hours here...\n",
    "\n",
    "total_hours_not_comfortable = dict()\n",
    "for filename in SimRetrofitList:\n",
    "    try:\n",
    "        hours_not_comfortable, N = get_number_of_hours_not_comfortable(\"./\"+filename,unconditioned_zones)\n",
    "        #print hours_not_comfortable # print per zone\n",
    "        total_hours_not_comfortable[filename] = int(N/39.)\n",
    "        print filename, int(N/39.)   # total, normalized by number of zones\n",
    "    except:\n",
    "        continue"
   ]
  },
  {
   "cell_type": "code",
   "execution_count": null,
   "metadata": {},
   "outputs": [],
   "source": [
    "#fig = figure(figsize=(8,6),dpi=300, facecolor='w', edgecolor='k');\n",
    "ComfortData = pd.Series(total_hours_not_comfortable)\n",
    "ComfortData\n",
    "ComfortPlot = ComfortData.plot(kind='bar')\n",
    "ComfortPlot.set_title('Avg. Hours Uncomfortable')"
   ]
  },
  {
   "cell_type": "code",
   "execution_count": null,
   "metadata": {
    "collapsed": true
   },
   "outputs": [],
   "source": []
  }
 ],
 "metadata": {
  "kernelspec": {
   "display_name": "Python 2",
   "language": "python",
   "name": "python2"
  },
  "language_info": {
   "codemirror_mode": {
    "name": "ipython",
    "version": 2
   },
   "file_extension": ".py",
   "mimetype": "text/x-python",
   "name": "python",
   "nbconvert_exporter": "python",
   "pygments_lexer": "ipython2",
   "version": "2.7.13"
  }
 },
 "nbformat": 4,
 "nbformat_minor": 1
}
